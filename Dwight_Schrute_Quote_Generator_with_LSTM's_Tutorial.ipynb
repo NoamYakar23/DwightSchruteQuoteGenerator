{
  "nbformat": 4,
  "nbformat_minor": 0,
  "metadata": {
    "accelerator": "TPU",
    "colab": {
      "name": "Dwight Schrute Quote Generator with LSTM's Tutorial",
      "provenance": [],
      "toc_visible": true
    },
    "kernelspec": {
      "display_name": "Python 3",
      "name": "python3"
    }
  },
  "cells": [
    {
      "cell_type": "markdown",
      "metadata": {
        "id": "DDOBVWULXfpz"
      },
      "source": [
        "# Background: LSTM networks\n",
        "\n",
        "Long Short-Term Memory networks are one type of **Recurrent Neural Network (RNN)**. \n",
        "They are networks whose output depends on the previous ones. This loop behaviour makes them the perfect option to work with sequences and lists. \n",
        "\n",
        "If you want to know more about this type of netwrks read [this amazing post](http://karpathy.github.io/2015/05/21/rnn-effectiveness/) \n",
        "\n",
        "As we can see in [this very famous post](http://colah.github.io/posts/2015-08-Understanding-LSTMs/) , a recurrent neural network can be thought of as multiple copies of the same network, each passing a message to a successor.\n",
        "\n",
        "\n",
        "![RNN vs DNN t](http://colah.github.io/posts/2015-08-Understanding-LSTMs/img/RNN-unrolled.png)\n",
        "\n",
        "\n",
        "\n",
        "\n",
        "The problem comes when they have to deal with **long-term dependencies**. Although, teorically, they would be able to handle this dependencies, some researchers have found some pretty fundamental reasons why it might be difficult. LSTM are a special kind of RNN, capable of learning long-term dependencies. Actually, they are designed to remember information for long periods\n",
        "\n",
        "\n",
        "Source: https://rb.gy/4ysgw5"
      ]
    },
    {
      "cell_type": "markdown",
      "metadata": {
        "id": "Kr9gUgsG4guk"
      },
      "source": [
        "## **Section One:** Libraries"
      ]
    },
    {
      "cell_type": "markdown",
      "metadata": {
        "id": "c6DSgGqH42Nl"
      },
      "source": [
        "The most important part of working with neural networks or just any ML libraries is to ensure that the libraries mesh together well.\n",
        "\n",
        "**The 5 Essential Libraries 👌**\n",
        "\n",
        "```\n",
        "pip install keras\n",
        "pip install pandas\n",
        "pip install numpy\n",
        "pip install re\n",
        "pip install nltk\n",
        "```\n",
        "\n",
        "\n",
        "\n",
        "Depending if you are on macOS or Windows, libraries can get problematic, that's why I specifically chose to use Google Colab\n",
        "\n",
        "```\n",
        "import pandas as pd\n",
        "import numpy as np\n",
        "import re\n",
        "import sys\n",
        "import nltk\n",
        "nltk.download('punkt')\n",
        "\n",
        "\n",
        "from nltk import word_tokenize\n",
        "\n",
        "from keras.models import Sequential, Model\n",
        "from keras.layers.embeddings import Embedding\n",
        "from keras.models import model_from_json\n",
        "from keras.layers import Input, Activation, Dense, Dropout\n",
        "from keras.layers import LSTM, Bidirectional\n",
        "```\n",
        "\n",
        "Download the dwightTotal quotes text document\n",
        "\n",
        "https://drive.google.com/file/d/1og_rt9Mr22xZCNTQubdUFX_ao-foqUzm/view?usp=sharing"
      ]
    },
    {
      "cell_type": "code",
      "metadata": {
        "colab": {
          "base_uri": "https://localhost:8080/"
        },
        "id": "atCGUHvZAi7Q",
        "outputId": "3f396e47-6389-469b-aebf-0462dba389f8"
      },
      "source": [
        "import pandas as pd\n",
        "import numpy as np\n",
        "import re\n",
        "import sys\n",
        "import nltk\n",
        "nltk.download('punkt')\n",
        " \n",
        " \n",
        "from nltk import word_tokenize\n",
        " \n",
        "from keras.models import Sequential, Model\n",
        "from keras.layers.embeddings import Embedding\n",
        "from keras.models import model_from_json\n",
        "from keras.layers import Input, Activation, Dense, Dropout\n",
        "from keras.layers import LSTM, Bidirectional"
      ],
      "execution_count": null,
      "outputs": [
        {
          "output_type": "stream",
          "text": [
            "[nltk_data] Downloading package punkt to /root/nltk_data...\n",
            "[nltk_data]   Unzipping tokenizers/punkt.zip.\n"
          ],
          "name": "stdout"
        }
      ]
    },
    {
      "cell_type": "markdown",
      "metadata": {
        "id": "pMYv61e6HEYr"
      },
      "source": [
        "## **Section Two :** Formatting"
      ]
    },
    {
      "cell_type": "markdown",
      "metadata": {
        "id": "VRU1SwCJHNon"
      },
      "source": [
        "The below code has three main purposes\n",
        "\n",
        "\n",
        "*   Access Dwight Schrute quotes for processing\n",
        "*   Convert the text file called dwightTotal.txt into somewhat of a formatted csv file type\n",
        "*   Measure the length of each quote and assign a value for each quote\n",
        "\n",
        "\n"
      ]
    },
    {
      "cell_type": "code",
      "metadata": {
        "id": "OiCACG8Uhxpu"
      },
      "source": [
        "quotes_csv = pd.read_csv('dwightTotal.txt', delimiter = '\\t', header=None, error_bad_lines=False)\n",
        "quotes_csv = quotes_csv.rename(columns={0: 'quote', 1:'quote_author', 2:'associative_tags'})\n",
        "quotes_csv['quote_length'] = quotes_csv.quote.map(lambda x: len(x))"
      ],
      "execution_count": null,
      "outputs": []
    },
    {
      "cell_type": "markdown",
      "metadata": {
        "id": "76sPjrB-HLqY"
      },
      "source": [
        "HERE COMES THE FUN PART!! \n",
        "\n",
        "So here we are going to remove all the characters that are unnecesary to the generation of quotes, the \"special\" ones 😂\n",
        "\n",
        "We want to make sure that there is ZERO 0 interference in the generation of the quotes and that all of are quotes are clean hence:\n",
        "\n",
        "```\n",
        "cleaned_quotes = []\n",
        "```\n"
      ]
    },
    {
      "cell_type": "code",
      "metadata": {
        "id": "whgEQB076wL6"
      },
      "source": [
        "quotes = list(quotes_csv.quote + '\\n')\n",
        "\n",
        "removed_char = ['#', '$', '%', '(', ')', '=', ';', ':', '*', '+', '£', '—', '’']\n",
        "cleaned_quotes = []\n",
        "sentences = []\n",
        "next_chars = []"
      ],
      "execution_count": null,
      "outputs": []
    },
    {
      "cell_type": "markdown",
      "metadata": {
        "id": "W0Rv-2DixSX5"
      },
      "source": [
        "### How do we actually remove the characters and white space in our txt file?\n",
        "\n",
        "\n",
        "Step One: Index through all of our quotes\n",
        "```\n",
        "for quote in quotes:\n",
        "```\n",
        "Step Two: Remove all of the forbidden characters 🚫 \n",
        "```\n",
        "  for s_char in removed_char:\n",
        "        quote = quote.replace(s_char, ' ')\n",
        "```\n",
        "Step Three: Remove White Space and Add all Quotes to the cleaned_quotes list\n",
        "\n",
        "\n",
        "```\n",
        "  pattern = re.compile(r'\\s{2,}')\n",
        "  quote = re.sub(pattern, ' ', quote)\n",
        "\n",
        "  cleaned_quotes.append(quote)\n",
        "\n",
        "text = ' '.join(cleaned_quotes)\n",
        "chars = sorted(list(set(text)))\n",
        "```\n",
        "\n"
      ]
    },
    {
      "cell_type": "code",
      "metadata": {
        "id": "NXOAF7fPxb_F"
      },
      "source": [
        "for quote in quotes:\n",
        "    for s_char in removed_char:\n",
        "        quote = quote.replace(s_char, ' ')\n",
        "\n",
        "    pattern = re.compile(r'\\s{2,}')\n",
        "    quote = re.sub(pattern, ' ', quote)\n",
        "\n",
        "    cleaned_quotes.append(quote)\n",
        "\n",
        "text = ' '.join(cleaned_quotes)\n",
        "chars = sorted(list(set(text)))"
      ],
      "execution_count": null,
      "outputs": []
    },
    {
      "cell_type": "markdown",
      "metadata": {
        "id": "yI6EWLnhLvjB"
      },
      "source": [
        "####Why are these two lines of code so important??\n",
        "\n",
        "```\n",
        "char_indices = dict((c, i) for i, c in enumerate(chars))\n",
        "indices_char = dict((i, c) for i, c in enumerate(chars))\n",
        "```\n",
        "\n",
        "These lines allow us to assign a specific value to every character and subsequently word in our text file. It allows to be able to easily call on words through a numerical representation\n",
        "\n",
        "Visualization\n",
        "\n",
        "![0_QMGjp-fPYpPaE3eK.png](data:image/png;base64,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)\n",
        "\n"
      ]
    },
    {
      "cell_type": "code",
      "metadata": {
        "id": "JhmXEimB61Pj",
        "colab": {
          "base_uri": "https://localhost:8080/"
        },
        "outputId": "45416662-8548-4b43-ed2d-db41814cbf2e"
      },
      "source": [
        "char_indices = dict((c, i) for i, c in enumerate(chars))\n",
        "indices_char = dict((i, c) for i, c in enumerate(chars))\n",
        "\n",
        "maximum_quote_length = 15\n",
        "step = 6\n",
        "\n",
        "for quote in cleaned_quotes:\n",
        "    for i in range(0, len(quote) - maximum_quote_length, step):\n",
        "        sentences.append(quote[i: i + maximum_quote_length])\n",
        "        next_chars.append(quote[i + maximum_quote_length])\n",
        "    sentences.append(quote[-maximum_quote_length:])\n",
        "    next_chars.append(quote[-1])\n",
        "print('nb sequences:', len(sentences))\n",
        "\n",
        "print('Vectorization Process...')\n",
        "\n",
        "x = np.zeros((len(sentences), maximum_quote_length, len(chars)), dtype=np.bool)\n",
        "y = np.zeros((len(sentences), len(chars)), dtype=np.bool)\n",
        "for i, sentence in enumerate(sentences):\n",
        "    for t, char in enumerate(sentence):\n",
        "        x[i, t, char_indices[char]] = 1\n",
        "    y[i, char_indices[next_chars[i]]] = 1"
      ],
      "execution_count": null,
      "outputs": [
        {
          "output_type": "stream",
          "text": [
            "nb sequences: 63583\n",
            "Vectorization...\n"
          ],
          "name": "stdout"
        }
      ]
    },
    {
      "cell_type": "markdown",
      "metadata": {
        "id": "GK_tp4EZ06Mx"
      },
      "source": [
        "#**Section Three:** Model Building and Results"
      ]
    },
    {
      "cell_type": "code",
      "metadata": {
        "id": "z-cIG-UU2Zhd",
        "colab": {
          "base_uri": "https://localhost:8080/"
        },
        "outputId": "060cad94-45bc-4112-8ddc-e9db017f4b9f"
      },
      "source": [
        "## Model\n",
        "print('Build model...')\n",
        "input_sequences = Input((maximum_quote_length, len(chars)) , name=\"input_sequences\")\n",
        "lstm = Bidirectional(LSTM(256, return_sequences= True, input_shape=(maximum_quote_length, len(chars))), name = 'bidirectional')(input_sequences)\n",
        "lstm = Dropout(0.1, name = 'dropout_bidirectional_lstm')(lstm)\n",
        "lstm = LSTM(64, input_shape=(maximum_quote_length, len(chars)), name = 'lstm')(lstm)\n",
        "lstm = Dropout(0.1,  name = 'drop_out_lstm')(lstm)\n",
        "\n",
        "dense = Dense(15 * len(chars), name = 'first_dense')(lstm)\n",
        "dense = Dropout(0.1,  name = 'drop_out_first_dense')(dense)\n",
        "dense = Dense(5 * len(chars), name = 'second_dense')(dense)\n",
        "dense = Dropout(0.1,  name = 'drop_out_second_dense')(dense)\n",
        "dense = Dense(len(chars), name = 'last_dense')(dense)\n",
        "\n",
        "next_char = Activation('softmax', name = 'activation')(dense)\n",
        "\n",
        "model = Model([input_sequences], next_char)\n",
        "model.compile(optimizer='adam', loss='categorical_crossentropy')\n",
        "model.summary()"
      ],
      "execution_count": null,
      "outputs": [
        {
          "output_type": "stream",
          "text": [
            "Build model...\n",
            "Model: \"model\"\n",
            "_________________________________________________________________\n",
            "Layer (type)                 Output Shape              Param #   \n",
            "=================================================================\n",
            "input_sequences (InputLayer) [(None, 15, 84)]          0         \n",
            "_________________________________________________________________\n",
            "bidirectional (Bidirectional (None, 15, 512)           698368    \n",
            "_________________________________________________________________\n",
            "dropout_bidirectional_lstm ( (None, 15, 512)           0         \n",
            "_________________________________________________________________\n",
            "lstm (LSTM)                  (None, 64)                147712    \n",
            "_________________________________________________________________\n",
            "drop_out_lstm (Dropout)      (None, 64)                0         \n",
            "_________________________________________________________________\n",
            "first_dense (Dense)          (None, 1260)              81900     \n",
            "_________________________________________________________________\n",
            "drop_out_first_dense (Dropou (None, 1260)              0         \n",
            "_________________________________________________________________\n",
            "second_dense (Dense)         (None, 420)               529620    \n",
            "_________________________________________________________________\n",
            "drop_out_second_dense (Dropo (None, 420)               0         \n",
            "_________________________________________________________________\n",
            "last_dense (Dense)           (None, 84)                35364     \n",
            "_________________________________________________________________\n",
            "activation (Activation)      (None, 84)                0         \n",
            "=================================================================\n",
            "Total params: 1,492,964\n",
            "Trainable params: 1,492,964\n",
            "Non-trainable params: 0\n",
            "_________________________________________________________________\n"
          ],
          "name": "stdout"
        }
      ]
    },
    {
      "cell_type": "markdown",
      "metadata": {
        "id": "TcTQldXn0yoV"
      },
      "source": [
        "Training the model for 125 Epochs...\n",
        "\n",
        "Please adjust the runtime type to TPU to optimize speed, and trainign can vary between 125 to even up to 300 epochs based on how you manipulate the model\n"
      ]
    },
    {
      "cell_type": "code",
      "metadata": {
        "id": "PLM_5DOqAwGA"
      },
      "source": [
        "model.fit([x], y,\n",
        "         batch_size=2048,\n",
        "          epochs= 125\n",
        "         )\n",
        "\n",
        "two_first_words = [bigram for bigram in [' '.join(word_tokenize(quote)[:2]) for quote in quotes] if\n",
        "                   len(bigram) <= maximum_quote_length]\n"
      ],
      "execution_count": null,
      "outputs": []
    },
    {
      "cell_type": "code",
      "metadata": {
        "id": "2NsDsfZq7H5t"
      },
      "source": [
        "def sample(preds, temperature=1.0):\n",
        "    preds = np.asarray(preds).astype('float64')\n",
        "    preds = np.log(preds) / temperature\n",
        "    exp_preds = np.exp(preds)\n",
        "    preds = exp_preds / np.sum(exp_preds)\n",
        "    probas = np.random.multinomial(1, preds, 1)\n",
        "    return np.argmax(probas)\n",
        "\n",
        "\n",
        "\n",
        "def generate_OG_quote(sentence=None, diversity=0.8):\n",
        "    if not sentence: \n",
        "        random_index = np.random.randint(0, len(two_first_words))\n",
        "        sentence = two_first_words[random_index]\n",
        "\n",
        "    if len(sentence) > maximum_quote_length:\n",
        "        sentence = sentence[-maximum_quote_length:]\n",
        "    elif len(sentence) < maximum_quote_length:\n",
        "        sentence = ' ' * (maximum_quote_length - len(sentence)) + sentence\n",
        "\n",
        "    generated = ''\n",
        "    generated += sentence\n",
        "    sys.stdout.write(generated)\n",
        "\n",
        "    next_char = 'Empty'\n",
        "    total_word = 0\n",
        "\n",
        "    max_word = 15\n",
        "\n",
        "    while ((next_char not in ['\\n', '.']) & (total_word <= 500)):\n",
        "\n",
        "        x_pred = np.zeros((1, maximum_quote_length, len(chars)))\n",
        "        for t, char in enumerate(sentence):\n",
        "            x_pred[0, t, char_indices[char]] = 1.\n",
        "\n",
        "        preds = model.predict(x_pred, verbose=0)[0]\n",
        "        next_index = sample(preds, diversity)\n",
        "        next_char = indices_char[next_index]\n",
        "\n",
        "        if next_char == ' ':\n",
        "            total_word += 1\n",
        "        generated += next_char\n",
        "        sentence = sentence[1:] + next_char\n",
        "\n",
        "        sys.stdout.write(next_char)\n",
        "        sys.stdout.flush()\n",
        "    print()"
      ],
      "execution_count": null,
      "outputs": []
    },
    {
      "cell_type": "markdown",
      "metadata": {
        "id": "C3AgWAyO6n_k"
      },
      "source": [
        "Finally!! GENERATE YOUR QUOTE 😁😁\n",
        "\n"
      ]
    },
    {
      "cell_type": "code",
      "metadata": {
        "id": "uajr_bqNI8Xs"
      },
      "source": [
        "generate_OG_quote()"
      ],
      "execution_count": null,
      "outputs": []
    }
  ]
}